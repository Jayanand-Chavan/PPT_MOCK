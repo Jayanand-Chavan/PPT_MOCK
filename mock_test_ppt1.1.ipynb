{
 "cells": [
  {
   "cell_type": "markdown",
   "id": "5d721899",
   "metadata": {},
   "source": [
    "Move Zeroes\n",
    "Given an integer array nums, move all 0's to the end of it while maintaining the relative order of the non-zero elements.\n",
    "\n",
    "Note that you must do this in-place without making a copy of the array.\n",
    "\n",
    "Example 1:\n",
    "Input: nums = [0,1,0,3,12]\n",
    "Output: [1,3,12,0,0]\n",
    "\n",
    "Example 2:\n",
    "Input: nums = [0]\n",
    "Output: [0]\n",
    "\n",
    "Constraints:\n",
    "a. 1 <= nums.length <= 10^4\n",
    "b. -2^31 <= nums[i] <= 2^31 - 1\n",
    "\n",
    "Note: Create a GitHub file for the solution and add the file link the the answer section below.\n",
    "\n",
    "5 points\n"
   ]
  },
  {
   "cell_type": "code",
   "execution_count": 2,
   "id": "d025c83e",
   "metadata": {},
   "outputs": [],
   "source": [
    "from typing import List"
   ]
  },
  {
   "cell_type": "code",
   "execution_count": 6,
   "id": "b07e3f55",
   "metadata": {},
   "outputs": [
    {
     "name": "stdout",
     "output_type": "stream",
     "text": [
      "[1, 3, 12, 0, 0]\n",
      "[0]\n"
     ]
    }
   ],
   "source": [
    "class Solution(object):\n",
    "    \n",
    "    def moveZeroes(nums:List[int]):\n",
    "        i = 0\n",
    "        for j in range(len(nums)):\n",
    "            if nums[j] != 0:\n",
    "                nums[i], nums[j] = nums[j], nums[i]\n",
    "                i += 1\n",
    "\n",
    "        while i < len(nums):\n",
    "            nums[i] = 0\n",
    "            i += 1\n",
    "\n",
    "        return nums\n",
    "\n",
    "\n",
    "nums = [0, 1, 0, 3, 12]\n",
    "result = Solution.moveZeroes(nums)\n",
    "print(result)  # Output: [1, 3, 12, 0, 0]\n",
    "\n",
    "\n",
    "nums1 = [0]\n",
    "r = Solution.moveZeroes(nums1)\n",
    "print(r)# Output: [0]"
   ]
  },
  {
   "cell_type": "code",
   "execution_count": null,
   "id": "bb2e1e05",
   "metadata": {},
   "outputs": [],
   "source": []
  }
 ],
 "metadata": {
  "kernelspec": {
   "display_name": "Python 3 (ipykernel)",
   "language": "python",
   "name": "python3"
  },
  "language_info": {
   "codemirror_mode": {
    "name": "ipython",
    "version": 3
   },
   "file_extension": ".py",
   "mimetype": "text/x-python",
   "name": "python",
   "nbconvert_exporter": "python",
   "pygments_lexer": "ipython3",
   "version": "3.8.10"
  }
 },
 "nbformat": 4,
 "nbformat_minor": 5
}
